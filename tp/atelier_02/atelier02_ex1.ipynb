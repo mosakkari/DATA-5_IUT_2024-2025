{
 "cells": [
  {
   "cell_type": "markdown",
   "metadata": {},
   "source": [
    "# 1"
   ]
  },
  {
   "cell_type": "code",
   "execution_count": 1,
   "metadata": {},
   "outputs": [],
   "source": [
    "import sqlite3\n",
    "conn = sqlite3.connect(\"../data/airports.db\")"
   ]
  },
  {
   "cell_type": "markdown",
   "metadata": {},
   "source": [
    "# 2"
   ]
  },
  {
   "cell_type": "code",
   "execution_count": 2,
   "metadata": {},
   "outputs": [],
   "source": [
    "cur = conn.cursor()"
   ]
  },
  {
   "cell_type": "markdown",
   "metadata": {},
   "source": [
    "# 3"
   ]
  },
  {
   "cell_type": "code",
   "execution_count": 7,
   "metadata": {},
   "outputs": [],
   "source": [
    "res = cur.execute(\n",
    "    \"SELECT airport_name \"\n",
    "    \"FROM airport \"\n",
    "    \"WHERE airport_id = 1382\"\n",
    ")"
   ]
  },
  {
   "cell_type": "markdown",
   "metadata": {},
   "source": [
    "## 3.a"
   ]
  },
  {
   "cell_type": "markdown",
   "metadata": {},
   "source": [
    "Ce code sélectionne le nom de l'aéroport dont l'id est `1382`."
   ]
  },
  {
   "cell_type": "markdown",
   "metadata": {},
   "source": [
    "## 3.b"
   ]
  },
  {
   "cell_type": "code",
   "execution_count": 8,
   "metadata": {},
   "outputs": [
    {
     "data": {
      "text/plain": [
       "'Charles de Gaulle International Airport'"
      ]
     },
     "execution_count": 8,
     "metadata": {},
     "output_type": "execute_result"
    }
   ],
   "source": [
    "res.fetchone()[0]"
   ]
  },
  {
   "cell_type": "markdown",
   "metadata": {},
   "source": [
    "# 4"
   ]
  },
  {
   "cell_type": "code",
   "execution_count": 17,
   "metadata": {},
   "outputs": [
    {
     "name": "stdout",
     "output_type": "stream",
     "text": [
      "(0, 'airport_id', 'INTEGER', 0, None, 1)\n",
      "(1, 'airport_name', 'TEXT', 0, None, 0)\n",
      "(2, 'city', 'TEXT', 0, None, 0)\n",
      "(3, 'country', 'TEXT', 0, None, 0)\n",
      "(4, 'airport_iata', 'TEXT', 0, None, 0)\n",
      "(5, 'airport_icao', 'TEXT', 0, None, 0)\n",
      "(6, 'latitude', 'REAL', 0, None, 0)\n",
      "(7, 'longitude', 'REAL', 0, None, 0)\n"
     ]
    }
   ],
   "source": [
    "res = cur.execute(\"PRAGMA table_info([Airport]);\")\n",
    "\n",
    "for i in res.fetchall():\n",
    "    print(i)"
   ]
  },
  {
   "cell_type": "markdown",
   "metadata": {},
   "source": [
    "# 5"
   ]
  },
  {
   "cell_type": "code",
   "execution_count": 20,
   "metadata": {},
   "outputs": [
    {
     "name": "stdout",
     "output_type": "stream",
     "text": [
      "Calais-Dunkerque Airport\n",
      "Péronne-Saint-Quentin Airport\n",
      "Nangis-Les Loges Airport\n",
      "'\"Bagnoles-de-l''Orne-Couterne Airport\"'\n",
      "Albert-Bray Airport\n",
      "'\"Le Touquet-Côte d''Opale Airport\"'\n",
      "Valenciennes-Denain Airport\n",
      "Amiens-Glisy Airport\n",
      "Agen-La Garenne Airport\n",
      "Cazaux (BA 120) Air Base\n",
      "Bordeaux-Mérignac Airport\n",
      "Bergerac-Roumanière Airport\n",
      "Toulouse-Francazal (BA 101) Air Base\n",
      "Cognac-Châteaubernard (BA 709) Air Base\n",
      "Poitiers-Biard Airport\n",
      "Montluçon-Guéret Airport\n",
      "Limoges Airport\n",
      "Mont-de-Marsan (BA 118) Air Base\n",
      "Niort-Souché Airport\n",
      "Toulouse-Blagnac Airport\n",
      "Pau Pyrénées Airport\n",
      "Muret-Lherm Airport\n",
      "Tarbes-Lourdes-Pyrénées Airport\n",
      "Angoulême-Brie-Champniers Airport\n",
      "Brive Souillac Airport\n",
      "Périgueux-Bassillac Airport\n",
      "Biarritz-Anglet-Bayonne Airport\n",
      "Cahors-Lalbenque Airport\n",
      "Saint-Girons-Antichan Airport\n",
      "Arcachon-La Teste-de-Buch Airport\n",
      "Albi-Le Séquestre Airport\n",
      "Castres-Mazamet Airport\n",
      "Toulouse-Lasbordes Airport\n",
      "Millau-Larzac Airfield\n",
      "Graulhet-Montdragon Airport\n",
      "Rodez-Marcillac Airport\n",
      "Ussel-Thalamy Airport\n",
      "Villeneuve-sur-Lot Airport\n",
      "Royan-Médis Airport\n",
      "Mimizan Airport\n",
      "'\"Aire-sur-l''Adour Airport\"'\n",
      "Montauban Airport\n",
      "Auch-Lamothe Airport\n",
      "Libourne-Artigues-de-Lussac Airport\n",
      "Pamiers-Les Pujols Airport\n",
      "Marmande-Virazeil Airport\n",
      "Rochefort-Saint-Agnant (BA 721) Airport\n",
      "Pontivy Airport\n",
      "Aubigny-sur-Nère Airport\n",
      "Guiscriff Scaer Airport\n",
      "Ancenis Airport\n",
      "Brienne-le-Château Airport\n",
      "Colmar-Houssen Airport\n",
      "Beaune-Challanges Airport\n",
      "Dole-Tavaux Airport\n",
      "Joigny Airport\n",
      "Verdun-Le Rozelier Airfield\n",
      "Aubenas-Ardèche Méridional Airport\n",
      "Le Puy-Loudes Airport\n",
      "Saint-Flour-Coltines Airport\n",
      "Bourg-Ceyzériat Airport\n",
      "Villefranche-Tarare Airport\n",
      "Moulins-Montbeugny Airport\n",
      "Saint-Affrique-Belmont Airport\n",
      "Cassagnes-Bégonhès Airport\n",
      "Metz-Nancy-Lorraine Airport\n",
      "Bastia-Poretta Airport\n",
      "Calvi-Sainte-Catherine Airport\n",
      "Figari Sud-Corse Airport\n",
      "Ajaccio-Napoléon Bonaparte Airport\n",
      "Propriano Airport\n",
      "Solenzara (BA 126) Air Base\n",
      "Corte Airport\n",
      "Auxerre-Branches Airport\n",
      "Chambéry-Savoie Airport\n",
      "Clermont-Ferrand Auvergne Airport\n",
      "Bourges Airport\n",
      "Chambéry-Challes-les-Eaux Airport\n",
      "Chalon-Champforgeuil Airport\n",
      "Annemasse Airport\n",
      "Lyon Saint-Exupéry Airport\n",
      "Mâcon-Charnay Airport\n",
      "Saint-Yan Airport\n",
      "Roanne-Renaison Airport\n",
      "Annecy-Haute-Savoie-Mont Blanc Airport\n",
      "Grenoble-Isère Airport\n",
      "Montluçon-Domérat Airport\n",
      "Valence-Chabeuil Airport\n",
      "Vichy-Charmeil Airport\n",
      "Aurillac Airport\n",
      "Châteauroux-Déols \"Marcel Dassault\" Airport\n",
      "Lyon-Bron Airport\n",
      "Aix-en-Provence (BA 114) Airport\n",
      "Le Luc-Le Cannet Airport\n",
      "Cannes-Mandelieu Airport\n",
      "Saint-Étienne-Bouthéon Airport\n",
      "Istres Le Tubé/Istres Air Base (BA 125) Airport\n",
      "Carcassonne Airport\n",
      "Marseille Provence Airport\n",
      "'\"Nice-Côte d''Azur Airport\"'\n",
      "Orange-Caritat (BA 115) Air Base\n",
      "Perpignan-Rivesaltes (Llabanère) Airport\n",
      "Le Castellet Airport\n",
      "Alès-Deaux Airport\n",
      "Montpellier-Méditerranée Airport\n",
      "Béziers-Vias Airport\n",
      "Avignon-Caumont Airport\n",
      "Salon-de-Provence (BA 701) Air Base\n",
      "Lézignan-Corbières Airfield\n",
      "Mende-Brenoux Airfield\n",
      "Carpentras Airport\n",
      "Avord (BA 702) Air Base\n",
      "Paris Beauvais Tillé Airport\n",
      "Châteaudun (BA 279) Air Base\n",
      "Saumur-Saint-Florent Airport\n",
      "Évreux-Fauville (BA 105) Air Base\n",
      "Le Havre Octeville Airport\n",
      "Abbeville\n",
      "Orléans-Bricy (BA 123) Air Base\n",
      "Châlons-Vatry Airport\n",
      "Rouen Airport\n",
      "Tours-Val-de-Loire Airport\n",
      "Cholet Le Pontreau Airport\n",
      "Laval-Entrammes Airport\n",
      "'\"Orléans-Saint-Denis-de-l''Hôtel Airport\"'\n",
      "Paris-Le Bourget Airport\n",
      "Creil Air Base\n",
      "Charles de Gaulle International Airport\n",
      "Coulommiers-Voisins Airport\n",
      "Melun-Villaroche Air Base\n",
      "Toussus-le-Noble Airport\n",
      "Paris-Orly Airport\n",
      "Pontoise - Cormeilles-en-Vexin Airport\n",
      "Villacoublay-Vélizy (BA 107) Air Base\n",
      "Reims-Prunay Airport\n",
      "Troyes-Barberey Airport\n",
      "Lunéville-Croismare Airport\n",
      "Étain-Rouvres Air Base\n",
      "Autun-Bellevue Airport\n",
      "Nevers-Fourchambault Airport\n",
      "Cambrai-Épinoy (BA 103) Air Base\n",
      "Maubeuge-Élesmes Airport\n",
      "Besançon-La Vèze Airport\n",
      "Phalsbourg-Bourscheid Air Base\n",
      "Lille-Lesquin Airport\n",
      "Merville-Calonne Airport\n",
      "Charleville-Mézières Airport\n",
      "Vesoul-Frotey Airport\n",
      "Brest Bretagne Airport\n",
      "Cherbourg-Maupertus Airport\n",
      "Dinard-Pleurtuit-Saint-Malo Airport\n",
      "La Baule-Escoublac Airport\n",
      "Granville Airport\n",
      "Deauville-Saint-Gatien Airport\n",
      "Lorient South Brittany (Bretagne Sud) Airport\n",
      "La Roche-sur-Yon Airport\n",
      "Landivisiau Air Base\n",
      "Caen-Carpiquet Airport\n",
      "Lanvéoc-Poulmic Air Base\n",
      "Le Mans-Arnage Airport\n",
      "Rennes-Saint-Jacques Airport\n",
      "Lannion-Côte de Granit Airport\n",
      "Quimper-Cornouaille Airport\n",
      "Nantes Atlantique Airport\n",
      "Saint-Brieuc-Armor Airport\n",
      "Morlaix-Ploujean Airport\n",
      "Vannes-Meucon Airport\n",
      "Saint-Nazaire-Montoir Airport\n",
      "EuroAirport Basel-Mulhouse-Freiburg Airport\n",
      "Colmar-Meyenheim Air Base\n",
      "Dijon-Bourgogne Airport\n",
      "Metz-Frescaty (BA 128) Air Base\n",
      "Épinal-Mirecourt Airport\n",
      "Haguenau Airport\n",
      "Saint-Dizier-Robinson (BA 113) Air Base\n",
      "Montbéliard-Courcelles Airfield\n",
      "Nancy-Essey Airport\n",
      "Nancy-Ochey (BA 133) Air Base\n",
      "Pontarlier Airport\n",
      "Reims-Champagne (BA 112) Air Base\n",
      "Strasbourg Airport\n",
      "Luxeuil-Saint-Sauveur (BA 116) Air Base\n",
      "Cuers-Pierrefeu Airport\n",
      "Toulon-Hyères Airport\n",
      "Nîmes-Arles-Camargue Airport\n",
      "Ambérieu Air Base (BA 278)\n",
      "Damblain Airport\n",
      "Enghien Moisselles Airfield\n",
      "'\"Île d''Yeu Airport\"'\n",
      "Angers-Loire Airport\n",
      "La Môle Airport\n",
      "Gustaf III Airport\n",
      "Courchevel Airport\n",
      "Andernos Les Bains Airport\n",
      "La Rochelle-Île de Ré Airport\n",
      "Ouessant Airport\n",
      "Fréjus Airport\n",
      "'\"Saint-Cyr-l''École Airport\"'\n",
      "Strasbourg Neuhof Airfield\n",
      "Megève Airport\n",
      "Méribel Altiport\n",
      "Pont Sur Yonne Airfield\n",
      "St Florentin Cheu Airfield\n",
      "Saulieu Liernais Airfield\n",
      "Meaux Esbly Airport\n",
      "Château-Thierry - Belleau Airfield\n",
      "Fontaine Airport\n",
      "La Ferté Alais Airfield\n",
      "Guatuso Airport\n",
      "Lille/Marcq-en-Baroeul Airport\n",
      "Digby (General Hospital) Heliport\n",
      "'\"La Grand''combe Airport\"'\n",
      "Lure Malbouhans Air Base\n",
      "Blois-Le Breuil Airport\n",
      "Lognes Emerainville Airport\n",
      "'\"St Pierre d''Oléron Airfield\"'\n",
      "Semur En Auxois Airfield\n"
     ]
    }
   ],
   "source": [
    "res = cur.execute(\n",
    "    \"SELECT airport_name \"\n",
    "    \"FROM airport \"\n",
    "    \"WHERE country='France'\"\n",
    ")\n",
    "\n",
    "for i in res.fetchall():\n",
    "    print(i[0])"
   ]
  },
  {
   "cell_type": "markdown",
   "metadata": {},
   "source": [
    "# 6"
   ]
  },
  {
   "cell_type": "code",
   "execution_count": 21,
   "metadata": {},
   "outputs": [
    {
     "name": "stdout",
     "output_type": "stream",
     "text": [
      "(1254, 'Calais-Dunkerque Airport', 'Calais', 'France', 'CQF', 'LFAC', 50.9621009827, 1.9547599554)\n",
      "(1255, 'Péronne-Saint-Quentin Airport', 'Peronne', 'France', 'null', 'LFAG', 49.8685, 3.02958)\n"
     ]
    }
   ],
   "source": [
    "res = cur.execute(\n",
    "    \"SELECT * \"\n",
    "    \"FROM airport \"\n",
    "    \"WHERE country='France'\"\n",
    ")\n",
    "\n",
    "data = [i for i in res.fetchall()]\n",
    "\n",
    "print(data[0])\n",
    "print(data[1])"
   ]
  },
  {
   "cell_type": "markdown",
   "metadata": {},
   "source": [
    "Chaque enregistrement contient 8 valeurs."
   ]
  },
  {
   "cell_type": "markdown",
   "metadata": {},
   "source": [
    "# 7"
   ]
  },
  {
   "cell_type": "code",
   "execution_count": 26,
   "metadata": {},
   "outputs": [
    {
     "name": "stdout",
     "output_type": "stream",
     "text": [
      "\n",
      "Requête :  SELECT airport_name, country FROM airport WHERE country= 'American Samoa'\n",
      "\n",
      "Résultat del a requête : \n",
      "Pago Pago International Airport --- American Samoa\n",
      "Fitiuta Airport --- American Samoa\n"
     ]
    }
   ],
   "source": [
    "country_name = input(\"Saisir le nom d'un pays (en anglais) : \")\n",
    "\n",
    "sql_query = f\"SELECT airport_name, country FROM airport WHERE country= '{country_name}'\"\n",
    "\n",
    "print(\"\\nRequête : \", sql_query)\n",
    "\n",
    "print(\"\\nRésultat del a requête : \")\n",
    "\n",
    "res = cur.execute(sql_query)\n",
    "for row in res:\n",
    "    print(row[0], \"---\", row[1])"
   ]
  },
  {
   "cell_type": "markdown",
   "metadata": {},
   "source": [
    "# 8"
   ]
  },
  {
   "cell_type": "markdown",
   "metadata": {},
   "source": [
    "Il ne faut pas utiliser de f strings ou de concaténation avec des entrées utilisateur dans une requếte."
   ]
  },
  {
   "cell_type": "markdown",
   "metadata": {},
   "source": [
    "# 9"
   ]
  },
  {
   "cell_type": "markdown",
   "metadata": {},
   "source": [
    "Avec des paramètres anonymes"
   ]
  },
  {
   "cell_type": "code",
   "execution_count": 43,
   "metadata": {},
   "outputs": [
    {
     "name": "stdout",
     "output_type": "stream",
     "text": [
      "\n",
      "Requête :  SELECT airport_name, country FROM airport WHERE country=?\n",
      "\n",
      "Résultat de la requête : \n",
      "Pago Pago International Airport --- American Samoa\n",
      "Fitiuta Airport --- American Samoa\n"
     ]
    }
   ],
   "source": [
    "country_name = input(\"Saisir le nom d'un pays (en anglais) : \")\n",
    "\n",
    "sql_query = f\"SELECT airport_name, country FROM airport WHERE country=?\"\n",
    "\n",
    "print(\"\\nRequête : \", sql_query)\n",
    "\n",
    "print(\"\\nRésultat de la requête : \")\n",
    "\n",
    "res = cur.execute(sql_query, (country_name, ))\n",
    "for row in res:\n",
    "    print(row[0], \"---\", row[1])"
   ]
  },
  {
   "cell_type": "markdown",
   "metadata": {},
   "source": [
    "Avec des paramètres nommées"
   ]
  },
  {
   "cell_type": "code",
   "execution_count": 45,
   "metadata": {},
   "outputs": [
    {
     "name": "stdout",
     "output_type": "stream",
     "text": [
      "\n",
      "Requête :  SELECT airport_name, country FROM airport WHERE country=:country\n",
      "\n",
      "Résultat de la requête : \n",
      "Pago Pago International Airport --- American Samoa\n",
      "Fitiuta Airport --- American Samoa\n"
     ]
    }
   ],
   "source": [
    "country_name = input(\"Saisir le nom d'un pays (en anglais) : \")\n",
    "\n",
    "sql_query = f\"SELECT airport_name, country FROM airport WHERE country=:country\"\n",
    "\n",
    "print(\"\\nRequête : \", sql_query)\n",
    "\n",
    "print(\"\\nRésultat de la requête : \")\n",
    "\n",
    "res = cur.execute(sql_query, {\"country\": country_name})\n",
    "for row in res:\n",
    "    print(row[0], \"---\", row[1])"
   ]
  },
  {
   "cell_type": "markdown",
   "metadata": {},
   "source": [
    "# 10"
   ]
  },
  {
   "cell_type": "code",
   "execution_count": 46,
   "metadata": {},
   "outputs": [],
   "source": [
    "cur.close()\n",
    "conn.close()"
   ]
  },
  {
   "cell_type": "markdown",
   "metadata": {},
   "source": [
    "# 11"
   ]
  },
  {
   "cell_type": "code",
   "execution_count": 65,
   "metadata": {},
   "outputs": [],
   "source": [
    "conn = sqlite3.connect(\"../data/politics.db\")"
   ]
  },
  {
   "cell_type": "markdown",
   "metadata": {},
   "source": [
    "# 12"
   ]
  },
  {
   "cell_type": "code",
   "execution_count": 50,
   "metadata": {},
   "outputs": [
    {
     "data": {
      "text/plain": [
       "<sqlite3.Cursor at 0x7f9bd806ac40>"
      ]
     },
     "execution_count": 50,
     "metadata": {},
     "output_type": "execute_result"
    }
   ],
   "source": [
    "conn.execute(\n",
    "    'CREATE TABLE \"Party\" ('\n",
    "        '\"party_id\"\tINTEGER,'\n",
    "        '\"party_name\"\tTEXT NOT NULL,'\n",
    "        '\"party_acronym\"\tTEXT,'\n",
    "        '\"party_country\"\tTEXT NOT NULL,'\n",
    "        'PRIMARY KEY(\"party_id\"),'\n",
    "        'CONSTRAINT \"uq_party_name_country\" UNIQUE(\"party_name\",\"party_country\")'\n",
    "    ');'\n",
    ")"
   ]
  },
  {
   "cell_type": "markdown",
   "metadata": {},
   "source": [
    "# 13"
   ]
  },
  {
   "cell_type": "code",
   "execution_count": 66,
   "metadata": {},
   "outputs": [
    {
     "data": {
      "text/plain": [
       "<sqlite3.Cursor at 0x7f9bd82e17c0>"
      ]
     },
     "execution_count": 66,
     "metadata": {},
     "output_type": "execute_result"
    }
   ],
   "source": [
    "query = (\n",
    "    \"INSERT INTO Party(party_id, party_name, party_acronym, party_country) VALUES \"\n",
    "    \"(:party_id, :party_name, :party_acronym, :party_country)\"\n",
    ")\n",
    "\n",
    "party = {\n",
    "    \"party_id\": 1,\n",
    "    \"party_name\": \"Les républicains\",\n",
    "    \"party_acronym\": \"LR\",\n",
    "    \"party_country\": \"France\"\n",
    "}\n",
    "\n",
    "conn.execute(query, party)"
   ]
  },
  {
   "cell_type": "markdown",
   "metadata": {},
   "source": [
    "# 14"
   ]
  },
  {
   "cell_type": "code",
   "execution_count": 67,
   "metadata": {},
   "outputs": [
    {
     "name": "stdout",
     "output_type": "stream",
     "text": [
      "(1, 'Les républicains', 'LR', 'France')\n"
     ]
    }
   ],
   "source": [
    "res = conn.execute(\"SELECT * FROM Party\")\n",
    "\n",
    "for row in res.fetchall():\n",
    "    print(row)"
   ]
  },
  {
   "cell_type": "markdown",
   "metadata": {},
   "source": [
    "# 15"
   ]
  },
  {
   "cell_type": "code",
   "execution_count": 68,
   "metadata": {},
   "outputs": [],
   "source": [
    "conn.commit()"
   ]
  },
  {
   "cell_type": "code",
   "execution_count": 69,
   "metadata": {},
   "outputs": [
    {
     "name": "stdout",
     "output_type": "stream",
     "text": [
      "(1, 'Les républicains', 'LR', 'France')\n"
     ]
    }
   ],
   "source": [
    "res = conn.execute(\"SELECT * FROM Party\")\n",
    "\n",
    "for row in res.fetchall():\n",
    "    print(row)"
   ]
  },
  {
   "cell_type": "markdown",
   "metadata": {},
   "source": [
    "La ligne appraît même avant le commit puisqu'on est sur la même connexion."
   ]
  }
 ],
 "metadata": {
  "kernelspec": {
   "display_name": "usr",
   "language": "python",
   "name": "python3"
  },
  "language_info": {
   "codemirror_mode": {
    "name": "ipython",
    "version": 3
   },
   "file_extension": ".py",
   "mimetype": "text/x-python",
   "name": "python",
   "nbconvert_exporter": "python",
   "pygments_lexer": "ipython3",
   "version": "3.12.6"
  }
 },
 "nbformat": 4,
 "nbformat_minor": 2
}
