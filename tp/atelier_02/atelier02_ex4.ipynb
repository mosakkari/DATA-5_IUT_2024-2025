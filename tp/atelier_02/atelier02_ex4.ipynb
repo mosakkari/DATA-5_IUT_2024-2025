{
 "cells": [
  {
   "cell_type": "markdown",
   "metadata": {},
   "source": [
    "# 1"
   ]
  },
  {
   "cell_type": "code",
   "execution_count": 1,
   "metadata": {},
   "outputs": [
    {
     "data": {
      "text/plain": [
       "<sqlite3.Cursor at 0x7effb3f994c0>"
      ]
     },
     "execution_count": 1,
     "metadata": {},
     "output_type": "execute_result"
    }
   ],
   "source": [
    "import sqlite3\n",
    "\n",
    "\n",
    "conn = sqlite3.connect(\"../data/asc.db\")\n",
    "\n",
    "conn.executescript(\"\"\"\n",
    "CREATE TABLE IF NOT EXISTS Student (\n",
    "    stud_number INTEGER,\n",
    "    first_name TEXT,\n",
    "    last_name TEXT,\n",
    "    gender TEXT,\n",
    "    PRIMARY KEY(\"stud_number\")\n",
    ");\n",
    "CREATE TABLE IF NOT EXISTS EmailAddress (\n",
    "    email TEXT,\n",
    "    stud_number INTEGER,\n",
    "    PRIMARY KEY(\"email\"),\n",
    "    FOREIGN KEY(\"stud_number\") REFERENCES \"Student\"(\"stud_numer\")\n",
    ");\n",
    "CREATE TABLE IF NOT EXISTS association (\n",
    "    ASSO_NAME TEXT,\n",
    "    asso_desc TEXT,\n",
    "    PRIMARY KEY(\"ASSO_NAME\")\n",
    ");\n",
    "CREATE TABLE IF NOT EXISTS membership (\n",
    "    STUD_NUMBER INTEGER,\n",
    "    ASSO_NAME TEXT,\n",
    "    stud_role TEXT,\n",
    "    PRIMARY KEY(\"STUD_NUMBER\"),\n",
    "    FOREIGN KEY(\"stud_number\") references \"student\"(\"stud_number\"),\n",
    "    FOREIGN KEY(\"asso_name\") references \"association\"(\"asso_name\")\n",
    ");\n",
    "CREATE TABLE IF NOT EXISTS ascEdition (\n",
    "    YEAR INTEGER,\n",
    "    registration_fee TEXT,\n",
    "    PRIMARY KEY(\"YEAR\")\n",
    ");\n",
    "CREATE TABLE IF NOT EXISTS registration (\n",
    "    STUD_NUMBER INTEGER,\n",
    "    YEAR INTEGER,\n",
    "    registrationdate TEXT,\n",
    "    payment_date TEXT,\n",
    "    PRIMARY KEY(\"STUD_NUMBER\", \"YEAR\"),\n",
    "    FOREIGN KEY(\"stud_number\") references \"student\"(\"stud_number\"),\n",
    "    FOREIGN KEY(\"year\") references \"ascEdition\"(\"year\")\n",
    ");\n",
    "CREATE TABLE IF NOT EXISTS login (\n",
    "    USERNAME TEXT,\n",
    "    password TEXT,\n",
    "    PRIMARY KEY(\"USERNAME\")\n",
    ");\n",
    "\"\"\")"
   ]
  },
  {
   "cell_type": "markdown",
   "metadata": {},
   "source": [
    "# 2"
   ]
  },
  {
   "cell_type": "code",
   "execution_count": 2,
   "metadata": {},
   "outputs": [],
   "source": [
    "import pandas as pd\n",
    "\n",
    "\n",
    "memberships = pd.read_csv(\"../data/student_memberships.csv\", sep=\";\")\n",
    "registrations = pd.read_csv(\"../data/student_registrations.csv\", sep=\";\")"
   ]
  },
  {
   "cell_type": "markdown",
   "metadata": {},
   "source": [
    "# 3"
   ]
  },
  {
   "cell_type": "code",
   "execution_count": 3,
   "metadata": {},
   "outputs": [
    {
     "data": {
      "text/html": [
       "<div>\n",
       "<style scoped>\n",
       "    .dataframe tbody tr th:only-of-type {\n",
       "        vertical-align: middle;\n",
       "    }\n",
       "\n",
       "    .dataframe tbody tr th {\n",
       "        vertical-align: top;\n",
       "    }\n",
       "\n",
       "    .dataframe thead th {\n",
       "        text-align: right;\n",
       "    }\n",
       "</style>\n",
       "<table border=\"1\" class=\"dataframe\">\n",
       "  <thead>\n",
       "    <tr style=\"text-align: right;\">\n",
       "      <th></th>\n",
       "      <th>stud_number</th>\n",
       "      <th>first_name</th>\n",
       "      <th>last_name</th>\n",
       "      <th>gender</th>\n",
       "      <th>email</th>\n",
       "      <th>stud_role</th>\n",
       "      <th>asso_name</th>\n",
       "      <th>asso_desc</th>\n",
       "    </tr>\n",
       "  </thead>\n",
       "  <tbody>\n",
       "    <tr>\n",
       "      <th>0</th>\n",
       "      <td>9699114</td>\n",
       "      <td>Ludwig</td>\n",
       "      <td>JACQUET</td>\n",
       "      <td>M</td>\n",
       "      <td>ludwig.jacquet@centralesupelec.fr</td>\n",
       "      <td>president</td>\n",
       "      <td>Band'à Joe</td>\n",
       "      <td>la fanfare, où tout le monde débute un instrum...</td>\n",
       "    </tr>\n",
       "    <tr>\n",
       "      <th>1</th>\n",
       "      <td>1978626</td>\n",
       "      <td>Rolande</td>\n",
       "      <td>ROUAULT</td>\n",
       "      <td>F</td>\n",
       "      <td>rolande.rouault@centralesupelec.fr</td>\n",
       "      <td>vice-president</td>\n",
       "      <td>Band'à Joe</td>\n",
       "      <td>la fanfare, où tout le monde débute un instrum...</td>\n",
       "    </tr>\n",
       "    <tr>\n",
       "      <th>2</th>\n",
       "      <td>5421882</td>\n",
       "      <td>Pierre Louis</td>\n",
       "      <td>PRIEUR</td>\n",
       "      <td>H</td>\n",
       "      <td>pierre louis.prieur@centralesupelec.fr</td>\n",
       "      <td>secretary</td>\n",
       "      <td>Band'à Joe</td>\n",
       "      <td>la fanfare, où tout le monde débute un instrum...</td>\n",
       "    </tr>\n",
       "    <tr>\n",
       "      <th>3</th>\n",
       "      <td>8737405</td>\n",
       "      <td>Jean-Brice</td>\n",
       "      <td>GENDREAU</td>\n",
       "      <td>garçon</td>\n",
       "      <td>jean-brice.gendreau@centralesupelec.fr</td>\n",
       "      <td>treasurer</td>\n",
       "      <td>Band'à Joe</td>\n",
       "      <td>la fanfare, où tout le monde débute un instrum...</td>\n",
       "    </tr>\n",
       "    <tr>\n",
       "      <th>4</th>\n",
       "      <td>9662058</td>\n",
       "      <td>Philppe</td>\n",
       "      <td>VEGER</td>\n",
       "      <td>garçon</td>\n",
       "      <td>philppe.veger@centralesupelec.fr</td>\n",
       "      <td>president</td>\n",
       "      <td>Barco</td>\n",
       "      <td>installation et exploitation de materiel video</td>\n",
       "    </tr>\n",
       "  </tbody>\n",
       "</table>\n",
       "</div>"
      ],
      "text/plain": [
       "   stud_number    first_name last_name  gender  \\\n",
       "0      9699114        Ludwig   JACQUET       M   \n",
       "1      1978626       Rolande   ROUAULT       F   \n",
       "2      5421882  Pierre Louis    PRIEUR       H   \n",
       "3      8737405    Jean-Brice  GENDREAU  garçon   \n",
       "4      9662058       Philppe     VEGER  garçon   \n",
       "\n",
       "                                    email       stud_role   asso_name  \\\n",
       "0       ludwig.jacquet@centralesupelec.fr       president  Band'à Joe   \n",
       "1      rolande.rouault@centralesupelec.fr  vice-president  Band'à Joe   \n",
       "2  pierre louis.prieur@centralesupelec.fr       secretary  Band'à Joe   \n",
       "3  jean-brice.gendreau@centralesupelec.fr       treasurer  Band'à Joe   \n",
       "4        philppe.veger@centralesupelec.fr       president       Barco   \n",
       "\n",
       "                                           asso_desc  \n",
       "0  la fanfare, où tout le monde débute un instrum...  \n",
       "1  la fanfare, où tout le monde débute un instrum...  \n",
       "2  la fanfare, où tout le monde débute un instrum...  \n",
       "3  la fanfare, où tout le monde débute un instrum...  \n",
       "4     installation et exploitation de materiel video  "
      ]
     },
     "metadata": {},
     "output_type": "display_data"
    },
    {
     "data": {
      "text/html": [
       "<div>\n",
       "<style scoped>\n",
       "    .dataframe tbody tr th:only-of-type {\n",
       "        vertical-align: middle;\n",
       "    }\n",
       "\n",
       "    .dataframe tbody tr th {\n",
       "        vertical-align: top;\n",
       "    }\n",
       "\n",
       "    .dataframe thead th {\n",
       "        text-align: right;\n",
       "    }\n",
       "</style>\n",
       "<table border=\"1\" class=\"dataframe\">\n",
       "  <thead>\n",
       "    <tr style=\"text-align: right;\">\n",
       "      <th></th>\n",
       "      <th>stud_number</th>\n",
       "      <th>first_name</th>\n",
       "      <th>last_name</th>\n",
       "      <th>gender</th>\n",
       "      <th>email</th>\n",
       "      <th>registration_date</th>\n",
       "      <th>payment_date</th>\n",
       "      <th>registration_fee</th>\n",
       "      <th>year</th>\n",
       "    </tr>\n",
       "  </thead>\n",
       "  <tbody>\n",
       "    <tr>\n",
       "      <th>0</th>\n",
       "      <td>7719175</td>\n",
       "      <td>Eliane</td>\n",
       "      <td>CHOISNE</td>\n",
       "      <td>M</td>\n",
       "      <td>eliane.choisne@centralesupelec.fr</td>\n",
       "      <td>2015-10-08</td>\n",
       "      <td>2015-11-07</td>\n",
       "      <td>20.5</td>\n",
       "      <td>2016</td>\n",
       "    </tr>\n",
       "    <tr>\n",
       "      <th>1</th>\n",
       "      <td>7208231</td>\n",
       "      <td>Florian</td>\n",
       "      <td>COEFFARD</td>\n",
       "      <td>M</td>\n",
       "      <td>florian.coeffard@centralesupelec.fr</td>\n",
       "      <td>2015-10-01</td>\n",
       "      <td>2015-10-01</td>\n",
       "      <td>20.5</td>\n",
       "      <td>2016</td>\n",
       "    </tr>\n",
       "    <tr>\n",
       "      <th>2</th>\n",
       "      <td>5876984</td>\n",
       "      <td>Jacob</td>\n",
       "      <td>ROUSSIERE</td>\n",
       "      <td>garçon</td>\n",
       "      <td>jacob.roussiere@centralesupelec.fr</td>\n",
       "      <td>2015-10-10</td>\n",
       "      <td>2015-11-09</td>\n",
       "      <td>20.5</td>\n",
       "      <td>2016</td>\n",
       "    </tr>\n",
       "    <tr>\n",
       "      <th>3</th>\n",
       "      <td>2486399</td>\n",
       "      <td>Hortense</td>\n",
       "      <td>GUEFFIER</td>\n",
       "      <td>W</td>\n",
       "      <td>hortense.gueffier@centralesupelec.fr</td>\n",
       "      <td>2015-10-10</td>\n",
       "      <td>2015-10-10</td>\n",
       "      <td>20.5</td>\n",
       "      <td>2016</td>\n",
       "    </tr>\n",
       "    <tr>\n",
       "      <th>4</th>\n",
       "      <td>7874799</td>\n",
       "      <td>Timothée</td>\n",
       "      <td>COUILLAUD</td>\n",
       "      <td>H</td>\n",
       "      <td>timothee.couillaud@centralesupelec.fr</td>\n",
       "      <td>2015-09-27</td>\n",
       "      <td>2015-10-27</td>\n",
       "      <td>20.5</td>\n",
       "      <td>2016</td>\n",
       "    </tr>\n",
       "  </tbody>\n",
       "</table>\n",
       "</div>"
      ],
      "text/plain": [
       "   stud_number first_name  last_name  gender  \\\n",
       "0      7719175     Eliane    CHOISNE       M   \n",
       "1      7208231    Florian   COEFFARD       M   \n",
       "2      5876984      Jacob  ROUSSIERE  garçon   \n",
       "3      2486399   Hortense   GUEFFIER       W   \n",
       "4      7874799   Timothée  COUILLAUD       H   \n",
       "\n",
       "                                   email registration_date payment_date  \\\n",
       "0      eliane.choisne@centralesupelec.fr        2015-10-08   2015-11-07   \n",
       "1    florian.coeffard@centralesupelec.fr        2015-10-01   2015-10-01   \n",
       "2     jacob.roussiere@centralesupelec.fr        2015-10-10   2015-11-09   \n",
       "3   hortense.gueffier@centralesupelec.fr        2015-10-10   2015-10-10   \n",
       "4  timothee.couillaud@centralesupelec.fr        2015-09-27   2015-10-27   \n",
       "\n",
       "   registration_fee  year  \n",
       "0              20.5  2016  \n",
       "1              20.5  2016  \n",
       "2              20.5  2016  \n",
       "3              20.5  2016  \n",
       "4              20.5  2016  "
      ]
     },
     "metadata": {},
     "output_type": "display_data"
    }
   ],
   "source": [
    "display(memberships.head())\n",
    "display(registrations.head())"
   ]
  },
  {
   "cell_type": "code",
   "execution_count": 4,
   "metadata": {},
   "outputs": [],
   "source": [
    "db_student = registrations[[\"stud_number\", \"first_name\", \"last_name\", \"gender\"]].drop_duplicates()\n",
    "db_email_address = registrations[[\"stud_number\", \"email\"]].drop_duplicates()\n",
    "db_association = memberships[[\"asso_name\", \"asso_desc\"]].drop_duplicates()\n",
    "db_membership = memberships[[\"stud_number\", \"asso_name\", \"stud_role\"]]\n",
    "db_asc_edition = registrations[[\"registration_fee\", \"year\"]].drop_duplicates()\n",
    "db_registration = registrations[[\"stud_number\", \"year\", \"registration_date\", \"payment_date\"]]\n",
    "db_login = pd.DataFrame(columns=[\"username\", \"password\"])"
   ]
  },
  {
   "cell_type": "markdown",
   "metadata": {},
   "source": [
    "# 4"
   ]
  },
  {
   "cell_type": "code",
   "execution_count": 5,
   "metadata": {},
   "outputs": [],
   "source": [
    "db_student = db_student.drop_duplicates()\n",
    "db_email_address = db_email_address.drop_duplicates()\n",
    "db_association = db_association.drop_duplicates()\n",
    "db_membership = db_membership.drop_duplicates()\n",
    "db_asc_edition = db_asc_edition.drop_duplicates()\n",
    "db_registration = db_registration.drop_duplicates()\n",
    "db_login = db_login.drop_duplicates()"
   ]
  },
  {
   "cell_type": "markdown",
   "metadata": {},
   "source": [
    "# 5"
   ]
  },
  {
   "cell_type": "code",
   "execution_count": 6,
   "metadata": {},
   "outputs": [],
   "source": [
    "assert len(db_student) == 602\n",
    "assert len(db_association) == 11\n",
    "assert len(db_email_address) == 602\n",
    "assert len(db_asc_edition) == 3\n",
    "assert len(db_registration) == 900\n",
    "assert len(db_membership) == 895"
   ]
  },
  {
   "cell_type": "markdown",
   "metadata": {},
   "source": [
    "# 6"
   ]
  },
  {
   "cell_type": "code",
   "execution_count": 7,
   "metadata": {},
   "outputs": [
    {
     "data": {
      "text/plain": [
       "array(['M', 'F'], dtype=object)"
      ]
     },
     "execution_count": 7,
     "metadata": {},
     "output_type": "execute_result"
    }
   ],
   "source": [
    "from unidecode import unidecode\n",
    "\n",
    "\n",
    "def normalize(gender: str) -> str:\n",
    "    if unidecode(gender.lower()) in [\"m\", \"h\", \"garcon\"]:\n",
    "        return \"M\"\n",
    "    return \"F\"\n",
    "\n",
    "db_student[\"gender\"] = db_student[\"gender\"].apply(normalize)\n",
    "\n",
    "db_student[\"gender\"].unique()"
   ]
  },
  {
   "cell_type": "markdown",
   "metadata": {},
   "source": [
    "# 7"
   ]
  },
  {
   "cell_type": "code",
   "execution_count": 8,
   "metadata": {},
   "outputs": [],
   "source": [
    "assert set(db_student[\"gender\"].unique()) == {\"F\", \"M\"}"
   ]
  },
  {
   "cell_type": "markdown",
   "metadata": {},
   "source": [
    "# 8"
   ]
  },
  {
   "cell_type": "code",
   "execution_count": 9,
   "metadata": {},
   "outputs": [
    {
     "data": {
      "text/html": [
       "<div>\n",
       "<style scoped>\n",
       "    .dataframe tbody tr th:only-of-type {\n",
       "        vertical-align: middle;\n",
       "    }\n",
       "\n",
       "    .dataframe tbody tr th {\n",
       "        vertical-align: top;\n",
       "    }\n",
       "\n",
       "    .dataframe thead th {\n",
       "        text-align: right;\n",
       "    }\n",
       "</style>\n",
       "<table border=\"1\" class=\"dataframe\">\n",
       "  <thead>\n",
       "    <tr style=\"text-align: right;\">\n",
       "      <th></th>\n",
       "      <th>stud_number</th>\n",
       "      <th>year</th>\n",
       "      <th>registration_date</th>\n",
       "      <th>payment_date</th>\n",
       "    </tr>\n",
       "  </thead>\n",
       "  <tbody>\n",
       "    <tr>\n",
       "      <th>0</th>\n",
       "      <td>7719175</td>\n",
       "      <td>2016</td>\n",
       "      <td>08-10-2015</td>\n",
       "      <td>07-11-2015</td>\n",
       "    </tr>\n",
       "    <tr>\n",
       "      <th>1</th>\n",
       "      <td>7208231</td>\n",
       "      <td>2016</td>\n",
       "      <td>01-10-2015</td>\n",
       "      <td>01-10-2015</td>\n",
       "    </tr>\n",
       "    <tr>\n",
       "      <th>2</th>\n",
       "      <td>5876984</td>\n",
       "      <td>2016</td>\n",
       "      <td>10-10-2015</td>\n",
       "      <td>09-11-2015</td>\n",
       "    </tr>\n",
       "    <tr>\n",
       "      <th>3</th>\n",
       "      <td>2486399</td>\n",
       "      <td>2016</td>\n",
       "      <td>10-10-2015</td>\n",
       "      <td>10-10-2015</td>\n",
       "    </tr>\n",
       "    <tr>\n",
       "      <th>4</th>\n",
       "      <td>7874799</td>\n",
       "      <td>2016</td>\n",
       "      <td>27-09-2015</td>\n",
       "      <td>27-10-2015</td>\n",
       "    </tr>\n",
       "    <tr>\n",
       "      <th>...</th>\n",
       "      <td>...</td>\n",
       "      <td>...</td>\n",
       "      <td>...</td>\n",
       "      <td>...</td>\n",
       "    </tr>\n",
       "    <tr>\n",
       "      <th>895</th>\n",
       "      <td>8851393</td>\n",
       "      <td>2018</td>\n",
       "      <td>18-10-2017</td>\n",
       "      <td>18-10-2017</td>\n",
       "    </tr>\n",
       "    <tr>\n",
       "      <th>896</th>\n",
       "      <td>8446594</td>\n",
       "      <td>2018</td>\n",
       "      <td>17-09-2017</td>\n",
       "      <td>17-09-2017</td>\n",
       "    </tr>\n",
       "    <tr>\n",
       "      <th>897</th>\n",
       "      <td>549362</td>\n",
       "      <td>2018</td>\n",
       "      <td>24-09-2017</td>\n",
       "      <td>24-10-2017</td>\n",
       "    </tr>\n",
       "    <tr>\n",
       "      <th>898</th>\n",
       "      <td>8347453</td>\n",
       "      <td>2018</td>\n",
       "      <td>19-10-2017</td>\n",
       "      <td>19-10-2017</td>\n",
       "    </tr>\n",
       "    <tr>\n",
       "      <th>899</th>\n",
       "      <td>2571528</td>\n",
       "      <td>2018</td>\n",
       "      <td>22-09-2017</td>\n",
       "      <td>22-09-2017</td>\n",
       "    </tr>\n",
       "  </tbody>\n",
       "</table>\n",
       "<p>900 rows × 4 columns</p>\n",
       "</div>"
      ],
      "text/plain": [
       "     stud_number  year registration_date payment_date\n",
       "0        7719175  2016        08-10-2015   07-11-2015\n",
       "1        7208231  2016        01-10-2015   01-10-2015\n",
       "2        5876984  2016        10-10-2015   09-11-2015\n",
       "3        2486399  2016        10-10-2015   10-10-2015\n",
       "4        7874799  2016        27-09-2015   27-10-2015\n",
       "..           ...   ...               ...          ...\n",
       "895      8851393  2018        18-10-2017   18-10-2017\n",
       "896      8446594  2018        17-09-2017   17-09-2017\n",
       "897       549362  2018        24-09-2017   24-10-2017\n",
       "898      8347453  2018        19-10-2017   19-10-2017\n",
       "899      2571528  2018        22-09-2017   22-09-2017\n",
       "\n",
       "[900 rows x 4 columns]"
      ]
     },
     "execution_count": 9,
     "metadata": {},
     "output_type": "execute_result"
    }
   ],
   "source": [
    "db_registration[\"registration_date\"] = pd.to_datetime(db_registration[\"registration_date\"]).dt.strftime(\"%d-%m-%Y\")\n",
    "db_registration[\"payment_date\"] = pd.to_datetime(db_registration[\"payment_date\"]).dt.strftime(\"%d-%m-%Y\")\n",
    "\n",
    "db_registration"
   ]
  },
  {
   "cell_type": "markdown",
   "metadata": {},
   "source": [
    "# 9"
   ]
  },
  {
   "cell_type": "code",
   "execution_count": 10,
   "metadata": {},
   "outputs": [
    {
     "data": {
      "text/plain": [
       "0      7719175\n",
       "1      7208231\n",
       "2      5876984\n",
       "3      2486399\n",
       "4      7874799\n",
       "        ...   \n",
       "875    4456631\n",
       "876    7099660\n",
       "880    1642443\n",
       "881    7456381\n",
       "893    4184809\n",
       "Name: stud_number, Length: 602, dtype: int64"
      ]
     },
     "execution_count": 10,
     "metadata": {},
     "output_type": "execute_result"
    }
   ],
   "source": [
    "db_student[\"stud_number\"]"
   ]
  },
  {
   "cell_type": "code",
   "execution_count": 11,
   "metadata": {},
   "outputs": [],
   "source": [
    "db_student.to_sql(\"student\", conn, if_exists=\"replace\")\n",
    "db_email_address.to_sql(\"emailAddress\", conn, if_exists=\"replace\")\n",
    "db_association.to_sql(\"association\", conn, if_exists=\"replace\")\n",
    "db_membership.to_sql(\"membership\", conn, if_exists=\"replace\")\n",
    "db_asc_edition.to_sql(\"ascEdition\", conn, if_exists=\"replace\")\n",
    "db_registration.to_sql(\"registration\", conn, if_exists=\"replace\")\n",
    "db_login.to_sql(\"login\", conn, if_exists=\"replace\")\n",
    "\n",
    "conn.commit()"
   ]
  }
 ],
 "metadata": {
  "kernelspec": {
   "display_name": "usr",
   "language": "python",
   "name": "python3"
  },
  "language_info": {
   "codemirror_mode": {
    "name": "ipython",
    "version": 3
   },
   "file_extension": ".py",
   "mimetype": "text/x-python",
   "name": "python",
   "nbconvert_exporter": "python",
   "pygments_lexer": "ipython3",
   "version": "3.12.6"
  }
 },
 "nbformat": 4,
 "nbformat_minor": 2
}
